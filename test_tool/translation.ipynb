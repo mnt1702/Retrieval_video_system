{
 "cells": [
  {
   "cell_type": "code",
   "execution_count": null,
   "id": "2b045268-a5b0-477e-94be-98e63367a43b",
   "metadata": {},
   "outputs": [],
   "source": []
  },
  {
   "cell_type": "code",
   "execution_count": 4,
   "id": "5ebbca02-ae91-4b49-9e2f-1b7c5fad5e9d",
   "metadata": {},
   "outputs": [
    {
     "name": "stdout",
     "output_type": "stream",
     "text": [
      "“I haven't been to a public gym before, but with a private yoga teacher or at home. When I exercise in a private space, I feel more comfortable,\" she said.\n",
      "She said: \"I've never been to a public gym before, but with my own yoga teacher or at home. When I exercise in a private space, I feel more comfortable.\"\n"
     ]
    }
   ],
   "source": [
    "from transformers import AutoTokenizer, AutoModelForSeq2SeqLM\n",
    "\n",
    "tokenizer_vi2en = AutoTokenizer.from_pretrained(\"vinai/vinai-translate-vi2en\", src_lang=\"vi_VN\")\n",
    "model_vi2en = AutoModelForSeq2SeqLM.from_pretrained(\"vinai/vinai-translate-vi2en\")\n",
    "\n",
    "def translate_vi2en(vi_text: str) -> str:\n",
    "    input_ids = tokenizer_vi2en(vi_text, return_tensors=\"pt\").input_ids\n",
    "    output_ids = model_vi2en.generate(\n",
    "        input_ids,\n",
    "        decoder_start_token_id=tokenizer_vi2en.lang_code_to_id[\"en_XX\"],\n",
    "        num_return_sequences=1,\n",
    "        num_beams=5,\n",
    "        early_stopping=True\n",
    "    )\n",
    "    en_text = tokenizer_vi2en.batch_decode(output_ids, skip_special_tokens=True)\n",
    "    en_text = \" \".join(en_text)\n",
    "    return en_text\n",
    "\n",
    "vi_text = \"Cô cho biết: trước giờ tôi không đến phòng tập công cộng, mà tập cùng giáo viên Yoga riêng hoặc tự tập ở nhà. Khi tập thể dục trong không gian riêng tư, tôi thoải mái dễ chịu hơn.\"\n",
    "print(translate_vi2en(vi_text))\n",
    "\n",
    "vi_text = \"cô cho biết: trước giờ tôi không đến phòng tập công cộng mà tập cùng giáo viên yoga riêng hoặc tự tập ở nhà khi tập thể dục trong không gian riêng tư tôi thoải mái dễ chịu hơn\"\n",
    "print(translate_vi2en(vi_text))"
   ]
  },
  {
   "cell_type": "code",
   "execution_count": 5,
   "id": "c45f3f06-0f0c-47de-9ae5-8720dcfafc93",
   "metadata": {},
   "outputs": [
    {
     "name": "stdout",
     "output_type": "stream",
     "text": [
      "She said: \"I've never been to a public gym before, but with my own yoga teacher or at home. When I exercise in a private space, I feel more comfortable.\"\n"
     ]
    }
   ],
   "source": [
    "vi_text = \"cô cho biết: trước giờ tôi không đến phòng tập công cộng mà tập cùng giáo viên yoga riêng hoặc tự tập ở nhà khi tập thể dục trong không gian riêng tư tôi thoải mái dễ chịu hơn\"\n",
    "print(translate_vi2en(vi_text))"
   ]
  },
  {
   "cell_type": "code",
   "execution_count": 1,
   "id": "c5e8637e-e759-4e07-9ba5-3f52060edcdb",
   "metadata": {},
   "outputs": [],
   "source": [
    "vi_text = \"cô cho biết: trước giờ tôi không đến phòng tập công cộng mà tập cùng giáo viên yoga riêng hoặc tự tập ở nhà khi tập thể dục trong không gian riêng tư tôi thoải mái dễ chịu hơn\""
   ]
  },
  {
   "cell_type": "code",
   "execution_count": 15,
   "id": "cc0b7691-d708-4406-9d19-5268562eded1",
   "metadata": {},
   "outputs": [
    {
     "name": "stdout",
     "output_type": "stream",
     "text": [
      "She said: Before, I don't go to public gyms, but practice with private yoga teachers or practice at home. When I exercise in a private space, I feel more comfortable.\n"
     ]
    }
   ],
   "source": [
    "from deep_translator import GoogleTranslator\n",
    "\n",
    "print(GoogleTranslator(source='auto', target='en').translate(vi_text))"
   ]
  },
  {
   "cell_type": "code",
   "execution_count": 19,
   "id": "a2238b57-79ec-4658-bd70-bc107aa103be",
   "metadata": {},
   "outputs": [
    {
     "ename": "NameError",
     "evalue": "name 'en' is not defined",
     "output_type": "error",
     "traceback": [
      "\u001b[1;31m---------------------------------------------------------------------------\u001b[0m",
      "\u001b[1;31mNameError\u001b[0m                                 Traceback (most recent call last)",
      "Cell \u001b[1;32mIn[19], line 3\u001b[0m\n\u001b[0;32m      1\u001b[0m \u001b[38;5;28;01mimport\u001b[39;00m \u001b[38;5;21;01mtranslate\u001b[39;00m\n\u001b[1;32m----> 3\u001b[0m translator \u001b[38;5;241m=\u001b[39m translate\u001b[38;5;241m.\u001b[39mTranslator(to_lang\u001b[38;5;241m=\u001b[39m \u001b[43men\u001b[49m)\n",
      "\u001b[1;31mNameError\u001b[0m: name 'en' is not defined"
     ]
    }
   ],
   "source": [
    "import translate\n",
    "\n",
    "translator = translate.Translator(to_lang= en)"
   ]
  },
  {
   "cell_type": "code",
   "execution_count": null,
   "id": "97602427-8edc-4ca4-b1a0-afef324cebd5",
   "metadata": {},
   "outputs": [],
   "source": []
  }
 ],
 "metadata": {
  "kernelspec": {
   "display_name": "Python 3 (ipykernel)",
   "language": "python",
   "name": "python3"
  },
  "language_info": {
   "codemirror_mode": {
    "name": "ipython",
    "version": 3
   },
   "file_extension": ".py",
   "mimetype": "text/x-python",
   "name": "python",
   "nbconvert_exporter": "python",
   "pygments_lexer": "ipython3",
   "version": "3.11.1"
  }
 },
 "nbformat": 4,
 "nbformat_minor": 5
}
